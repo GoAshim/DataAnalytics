{
  "nbformat": 4,
  "nbformat_minor": 0,
  "metadata": {
    "colab": {
      "name": "Web Scraping 1 - 2021-22 NBA Player Stats - Version 1.ipynb",
      "provenance": [],
      "collapsed_sections": [],
      "authorship_tag": "ABX9TyNrC2IPQWT/B40alqBRHssL",
      "include_colab_link": true
    },
    "kernelspec": {
      "name": "python3",
      "display_name": "Python 3"
    },
    "language_info": {
      "name": "python"
    }
  },
  "cells": [
    {
      "cell_type": "markdown",
      "metadata": {
        "id": "view-in-github",
        "colab_type": "text"
      },
      "source": [
        "<a href=\"https://colab.research.google.com/github/GoAshim/WebScraping/blob/main/Web_Scraping_1_2021_22_NBA_Player_Stats_Version_1.ipynb\" target=\"_parent\"><img src=\"https://colab.research.google.com/assets/colab-badge.svg\" alt=\"Open In Colab\"/></a>"
      ]
    },
    {
      "cell_type": "markdown",
      "source": [
        "# Scrap 2021-22 NBA Player Summary Statistics\n",
        "In this first web scraping exercise we are going to scrap the 2021-22 NBA Player Stats from Basketball Reference site (link [here](https://www.basketball-reference.com/leagues/NBA_2022_totals.html)).\n",
        "\n",
        "\n",
        "## Summary\n",
        "Basketball Reference has provided the stats of all NBA players for the 2021-22 season in tabular form on the above link. We are going to identify the table and scrap relevant data and load that on a dataframe for further analysis."
      ],
      "metadata": {
        "id": "R8tmRRaRDY6Z"
      }
    },
    {
      "cell_type": "markdown",
      "source": [
        "### Step 1 - Import required libraries"
      ],
      "metadata": {
        "id": "jQ5vvlR42Aal"
      }
    },
    {
      "cell_type": "code",
      "source": [
        "import requests # To pull data from webpage\n",
        "from bs4 import BeautifulSoup # To parse data pulled from the webpage\n",
        "import pandas as pd # To view, modify and store data parsed from the webpage \n"
      ],
      "metadata": {
        "id": "7ydKpW-nDo9B"
      },
      "execution_count": null,
      "outputs": []
    },
    {
      "cell_type": "markdown",
      "source": [
        "### Step 2 - Extract the content of the webpage"
      ],
      "metadata": {
        "id": "uF0LrCTf2jlP"
      }
    },
    {
      "cell_type": "code",
      "source": [
        "url = \"https://www.basketball-reference.com/leagues/NBA_2022_totals.html\"\n",
        "\n",
        "# Using requests.get to fetch the source content of the page\n",
        "page_data = requests.get(url).text\n",
        "\n",
        "# Uning BeautifulSoup to parse the content with the lxml parser\n",
        "soup = BeautifulSoup(page_data, \"lxml\")\n",
        "\n",
        "# To see the content of the page in more readable way\n",
        "#print(soup.prettify())"
      ],
      "metadata": {
        "id": "pv0O3BDfHcrR"
      },
      "execution_count": null,
      "outputs": []
    },
    {
      "cell_type": "markdown",
      "source": [
        "### Step 3 - Locate the table within the page where the stats are listed"
      ],
      "metadata": {
        "id": "rHvWKRJ53IR1"
      }
    },
    {
      "cell_type": "code",
      "source": [
        "# This is a manual step where I inspected the source code of the page on my Web brouser and then identified the table where the stats are stored.\n",
        "# The table can be identified with <table class=\"sortable stats_table\" and we will use that to extract the content of the table\n",
        "table_data = soup.find('table', {\"class\" : \"sortable stats_table\"})\n",
        "\n",
        "# Then let's extract the body of the table\n",
        "table_body = table_data.find('tbody')\n",
        "\n",
        "# Now we are going to extract the rows of the table, find_all returns a list\n",
        "table_rows = table_body.find_all('tr')\n"
      ],
      "metadata": {
        "id": "mwoTPzGHKFbN"
      },
      "execution_count": null,
      "outputs": []
    },
    {
      "cell_type": "markdown",
      "source": [
        "### Step 4 - Loop throu the header row to get the names of the columns of the table"
      ],
      "metadata": {
        "id": "6rgOUGFH3Vnw"
      }
    },
    {
      "cell_type": "code",
      "source": [
        "header_cells = table_data.find('thead').find('tr').find_all('th')\n",
        "column_names = []\n",
        "\n",
        "for header_cell in header_cells:\n",
        "  # Extract the value of the data-tip attribute if it exists\n",
        "  if header_cell.has_attr('data-tip'):\n",
        "    column_names.append(header_cell['data-tip'])\n",
        "  else:\n",
        "    column_names.append(header_cell['aria-label'])\n",
        "\n",
        "# Substitute long column names\n",
        "column_names[3] = 'Players Age'\n",
        "column_names[17] = 'Effective FG Percentage'\n",
        "\n",
        "for i in range(len(column_names)):\n",
        "  column_names[i] = column_names[i].replace(' ', '_').replace('-', '_')\n",
        "\n",
        "print(column_names)\n"
      ],
      "metadata": {
        "colab": {
          "base_uri": "https://localhost:8080/"
        },
        "id": "ChsQYwjtJ4lp",
        "outputId": "20ceb111-f58d-45da-a040-588de957212f"
      },
      "execution_count": null,
      "outputs": [
        {
          "output_type": "stream",
          "name": "stdout",
          "text": [
            "['Rank', 'Player', 'Position', 'Players_Age', 'Team', 'Games', 'Games_Started', 'Minutes_Played', 'Field_Goals', 'Field_Goal_Attempts', 'Field_Goal_Percentage', '3_Point_Field_Goals', '3_Point_Field_Goal_Attempts', '3_Point_Field_Goal_Percentage', '2_Point_Field_Goals', '2_point_Field_Goal_Attempts', '2_Point_Field_Goal_Percentage', 'Effective_FG_Percentage', 'Free_Throws', 'Free_Throw_Attempts', 'Free_Throw_Percentage', 'Offensive_Rebounds', 'Defensive_Rebounds', 'Total_Rebounds', 'Assists', 'Steals', 'Blocks', 'Turnovers', 'Personal_Fouls', 'Points']\n"
          ]
        }
      ]
    },
    {
      "cell_type": "markdown",
      "source": [
        "### Step 5 - Loop through the rows in the table body and extract the name of the first 10 players"
      ],
      "metadata": {
        "id": "RHC3_6xm3dca"
      }
    },
    {
      "cell_type": "code",
      "source": [
        "n = 1\n",
        "for table_row in table_rows:\n",
        "\n",
        "  # As we see, the table contains stats of each players in separate rows, which we need to extract. However the header row has been repeated \n",
        "  # multiple times to make the table easily readable on the web page, so we will need to exclude those header rows\n",
        "  if table_row['class'] != ['thead']:\n",
        "\n",
        "    # Extract the content of cells of each row of the table\n",
        "    table_cells = table_row.find_all('td')\n",
        "\n",
        "    if n <= 10:\n",
        "      # Print the content of the first cell of first 10 rows of the table\n",
        "      print(table_cells[0].string)\n",
        "    # End of the inner if block\n",
        "\n",
        "    n += 1\n",
        "  # End of the outer if block\n",
        "\n",
        "# End of the for loop block\n"
      ],
      "metadata": {
        "id": "rBxAc71GSaAQ",
        "colab": {
          "base_uri": "https://localhost:8080/"
        },
        "outputId": "1809fb17-bdbe-48b1-9e27-f8c57c0dd42b"
      },
      "execution_count": null,
      "outputs": [
        {
          "output_type": "stream",
          "name": "stdout",
          "text": [
            "Precious Achiuwa\n",
            "Steven Adams\n",
            "Bam Adebayo\n",
            "Santi Aldama\n",
            "LaMarcus Aldridge\n",
            "Nickeil Alexander-Walker\n",
            "Nickeil Alexander-Walker\n",
            "Nickeil Alexander-Walker\n",
            "Grayson Allen\n",
            "Jarrett Allen\n"
          ]
        }
      ]
    },
    {
      "cell_type": "markdown",
      "source": [
        "### Step 6 - Extract values of all columns related to the 1st player from the table"
      ],
      "metadata": {
        "id": "p5MrNUUl3tIb"
      }
    },
    {
      "cell_type": "code",
      "source": [
        "rank = 1\n",
        "dataframe_row = []\n",
        "\n",
        "for table_row in table_rows:\n",
        "  if table_row['class'][0] != 'thead':\n",
        "    dataframe_row.append(rank)\n",
        "\n",
        "    table_row_cells = table_row.find_all('td')\n",
        "\n",
        "    for table_row_cell in table_row_cells:\n",
        "      dataframe_row.append(table_row_cell.text)\n",
        "    \n",
        "    rank += 1\n",
        "\n",
        "    if rank == 2:\n",
        "      break\n",
        "\n",
        "print(dataframe_row)\n"
      ],
      "metadata": {
        "colab": {
          "base_uri": "https://localhost:8080/"
        },
        "id": "KbB1TYbYJtIa",
        "outputId": "5eac1262-1fd3-4ab1-b44e-1b7e536f0991"
      },
      "execution_count": null,
      "outputs": [
        {
          "output_type": "stream",
          "name": "stdout",
          "text": [
            "[1, 'Precious Achiuwa', 'C', '22', 'TOR', '73', '28', '1725', '265', '603', '.439', '56', '156', '.359', '209', '447', '.468', '.486', '78', '131', '.595', '146', '327', '473', '82', '37', '41', '84', '151', '664']\n"
          ]
        }
      ]
    },
    {
      "cell_type": "markdown",
      "source": [
        "### Step 7 - Loop through the table to extract all columns of every players and store that into a dataframe"
      ],
      "metadata": {
        "id": "BcCYR0HG34VH"
      }
    },
    {
      "cell_type": "code",
      "source": [
        "# First create an empty dataframe with the columns we got\n",
        "df1 = pd.DataFrame(columns=column_names)\n",
        "\n",
        "# Then loop through the rows in the table as we did in the step 5 above\n",
        "rank = 1\n",
        "\n",
        "for table_row in table_rows:\n",
        "  dataframe_row = []\n",
        "\n",
        "  if table_row['class'][0] != 'thead':\n",
        "    dataframe_row.append(rank)\n",
        "    table_row_cells = table_row.find_all('td')\n",
        "\n",
        "    for table_row_cell in table_row_cells:\n",
        "      dataframe_row.append(table_row_cell.text)\n",
        "    \n",
        "    rank += 1\n",
        "    df1.loc[len(df1.index)] = dataframe_row\n",
        "\n",
        "df1.head()"
      ],
      "metadata": {
        "colab": {
          "base_uri": "https://localhost:8080/",
          "height": 386
        },
        "id": "McrCQRMwU5Mw",
        "outputId": "b379f995-4dbf-47ae-a35d-55d0751d0f83"
      },
      "execution_count": null,
      "outputs": [
        {
          "output_type": "execute_result",
          "data": {
            "text/plain": [
              "  Rank             Player Position Players_Age Team Games Games_Started  \\\n",
              "0    1   Precious Achiuwa        C          22  TOR    73            28   \n",
              "1    2       Steven Adams        C          28  MEM    76            75   \n",
              "2    3        Bam Adebayo        C          24  MIA    56            56   \n",
              "3    4       Santi Aldama       PF          21  MEM    32             0   \n",
              "4    5  LaMarcus Aldridge        C          36  BRK    47            12   \n",
              "\n",
              "  Minutes_Played Field_Goals Field_Goal_Attempts  ... Free_Throw_Percentage  \\\n",
              "0           1725         265                 603  ...                  .595   \n",
              "1           1999         210                 384  ...                  .543   \n",
              "2           1825         406                 729  ...                  .753   \n",
              "3            360          53                 132  ...                  .625   \n",
              "4           1050         252                 458  ...                  .873   \n",
              "\n",
              "  Offensive_Rebounds Defensive_Rebounds Total_Rebounds Assists Steals Blocks  \\\n",
              "0                146                327            473      82     37     41   \n",
              "1                349                411            760     256     65     60   \n",
              "2                137                427            564     190     80     44   \n",
              "3                 33                 54             87      21      6     10   \n",
              "4                 73                185            258      42     14     47   \n",
              "\n",
              "  Turnovers Personal_Fouls Points  \n",
              "0        84            151    664  \n",
              "1       115            153    528  \n",
              "2       148            171   1068  \n",
              "3        16             36    132  \n",
              "4        44             78    607  \n",
              "\n",
              "[5 rows x 30 columns]"
            ],
            "text/html": [
              "\n",
              "  <div id=\"df-5678f109-5f30-4756-b9da-a53386691d49\">\n",
              "    <div class=\"colab-df-container\">\n",
              "      <div>\n",
              "<style scoped>\n",
              "    .dataframe tbody tr th:only-of-type {\n",
              "        vertical-align: middle;\n",
              "    }\n",
              "\n",
              "    .dataframe tbody tr th {\n",
              "        vertical-align: top;\n",
              "    }\n",
              "\n",
              "    .dataframe thead th {\n",
              "        text-align: right;\n",
              "    }\n",
              "</style>\n",
              "<table border=\"1\" class=\"dataframe\">\n",
              "  <thead>\n",
              "    <tr style=\"text-align: right;\">\n",
              "      <th></th>\n",
              "      <th>Rank</th>\n",
              "      <th>Player</th>\n",
              "      <th>Position</th>\n",
              "      <th>Players_Age</th>\n",
              "      <th>Team</th>\n",
              "      <th>Games</th>\n",
              "      <th>Games_Started</th>\n",
              "      <th>Minutes_Played</th>\n",
              "      <th>Field_Goals</th>\n",
              "      <th>Field_Goal_Attempts</th>\n",
              "      <th>...</th>\n",
              "      <th>Free_Throw_Percentage</th>\n",
              "      <th>Offensive_Rebounds</th>\n",
              "      <th>Defensive_Rebounds</th>\n",
              "      <th>Total_Rebounds</th>\n",
              "      <th>Assists</th>\n",
              "      <th>Steals</th>\n",
              "      <th>Blocks</th>\n",
              "      <th>Turnovers</th>\n",
              "      <th>Personal_Fouls</th>\n",
              "      <th>Points</th>\n",
              "    </tr>\n",
              "  </thead>\n",
              "  <tbody>\n",
              "    <tr>\n",
              "      <th>0</th>\n",
              "      <td>1</td>\n",
              "      <td>Precious Achiuwa</td>\n",
              "      <td>C</td>\n",
              "      <td>22</td>\n",
              "      <td>TOR</td>\n",
              "      <td>73</td>\n",
              "      <td>28</td>\n",
              "      <td>1725</td>\n",
              "      <td>265</td>\n",
              "      <td>603</td>\n",
              "      <td>...</td>\n",
              "      <td>.595</td>\n",
              "      <td>146</td>\n",
              "      <td>327</td>\n",
              "      <td>473</td>\n",
              "      <td>82</td>\n",
              "      <td>37</td>\n",
              "      <td>41</td>\n",
              "      <td>84</td>\n",
              "      <td>151</td>\n",
              "      <td>664</td>\n",
              "    </tr>\n",
              "    <tr>\n",
              "      <th>1</th>\n",
              "      <td>2</td>\n",
              "      <td>Steven Adams</td>\n",
              "      <td>C</td>\n",
              "      <td>28</td>\n",
              "      <td>MEM</td>\n",
              "      <td>76</td>\n",
              "      <td>75</td>\n",
              "      <td>1999</td>\n",
              "      <td>210</td>\n",
              "      <td>384</td>\n",
              "      <td>...</td>\n",
              "      <td>.543</td>\n",
              "      <td>349</td>\n",
              "      <td>411</td>\n",
              "      <td>760</td>\n",
              "      <td>256</td>\n",
              "      <td>65</td>\n",
              "      <td>60</td>\n",
              "      <td>115</td>\n",
              "      <td>153</td>\n",
              "      <td>528</td>\n",
              "    </tr>\n",
              "    <tr>\n",
              "      <th>2</th>\n",
              "      <td>3</td>\n",
              "      <td>Bam Adebayo</td>\n",
              "      <td>C</td>\n",
              "      <td>24</td>\n",
              "      <td>MIA</td>\n",
              "      <td>56</td>\n",
              "      <td>56</td>\n",
              "      <td>1825</td>\n",
              "      <td>406</td>\n",
              "      <td>729</td>\n",
              "      <td>...</td>\n",
              "      <td>.753</td>\n",
              "      <td>137</td>\n",
              "      <td>427</td>\n",
              "      <td>564</td>\n",
              "      <td>190</td>\n",
              "      <td>80</td>\n",
              "      <td>44</td>\n",
              "      <td>148</td>\n",
              "      <td>171</td>\n",
              "      <td>1068</td>\n",
              "    </tr>\n",
              "    <tr>\n",
              "      <th>3</th>\n",
              "      <td>4</td>\n",
              "      <td>Santi Aldama</td>\n",
              "      <td>PF</td>\n",
              "      <td>21</td>\n",
              "      <td>MEM</td>\n",
              "      <td>32</td>\n",
              "      <td>0</td>\n",
              "      <td>360</td>\n",
              "      <td>53</td>\n",
              "      <td>132</td>\n",
              "      <td>...</td>\n",
              "      <td>.625</td>\n",
              "      <td>33</td>\n",
              "      <td>54</td>\n",
              "      <td>87</td>\n",
              "      <td>21</td>\n",
              "      <td>6</td>\n",
              "      <td>10</td>\n",
              "      <td>16</td>\n",
              "      <td>36</td>\n",
              "      <td>132</td>\n",
              "    </tr>\n",
              "    <tr>\n",
              "      <th>4</th>\n",
              "      <td>5</td>\n",
              "      <td>LaMarcus Aldridge</td>\n",
              "      <td>C</td>\n",
              "      <td>36</td>\n",
              "      <td>BRK</td>\n",
              "      <td>47</td>\n",
              "      <td>12</td>\n",
              "      <td>1050</td>\n",
              "      <td>252</td>\n",
              "      <td>458</td>\n",
              "      <td>...</td>\n",
              "      <td>.873</td>\n",
              "      <td>73</td>\n",
              "      <td>185</td>\n",
              "      <td>258</td>\n",
              "      <td>42</td>\n",
              "      <td>14</td>\n",
              "      <td>47</td>\n",
              "      <td>44</td>\n",
              "      <td>78</td>\n",
              "      <td>607</td>\n",
              "    </tr>\n",
              "  </tbody>\n",
              "</table>\n",
              "<p>5 rows × 30 columns</p>\n",
              "</div>\n",
              "      <button class=\"colab-df-convert\" onclick=\"convertToInteractive('df-5678f109-5f30-4756-b9da-a53386691d49')\"\n",
              "              title=\"Convert this dataframe to an interactive table.\"\n",
              "              style=\"display:none;\">\n",
              "        \n",
              "  <svg xmlns=\"http://www.w3.org/2000/svg\" height=\"24px\"viewBox=\"0 0 24 24\"\n",
              "       width=\"24px\">\n",
              "    <path d=\"M0 0h24v24H0V0z\" fill=\"none\"/>\n",
              "    <path d=\"M18.56 5.44l.94 2.06.94-2.06 2.06-.94-2.06-.94-.94-2.06-.94 2.06-2.06.94zm-11 1L8.5 8.5l.94-2.06 2.06-.94-2.06-.94L8.5 2.5l-.94 2.06-2.06.94zm10 10l.94 2.06.94-2.06 2.06-.94-2.06-.94-.94-2.06-.94 2.06-2.06.94z\"/><path d=\"M17.41 7.96l-1.37-1.37c-.4-.4-.92-.59-1.43-.59-.52 0-1.04.2-1.43.59L10.3 9.45l-7.72 7.72c-.78.78-.78 2.05 0 2.83L4 21.41c.39.39.9.59 1.41.59.51 0 1.02-.2 1.41-.59l7.78-7.78 2.81-2.81c.8-.78.8-2.07 0-2.86zM5.41 20L4 18.59l7.72-7.72 1.47 1.35L5.41 20z\"/>\n",
              "  </svg>\n",
              "      </button>\n",
              "      \n",
              "  <style>\n",
              "    .colab-df-container {\n",
              "      display:flex;\n",
              "      flex-wrap:wrap;\n",
              "      gap: 12px;\n",
              "    }\n",
              "\n",
              "    .colab-df-convert {\n",
              "      background-color: #E8F0FE;\n",
              "      border: none;\n",
              "      border-radius: 50%;\n",
              "      cursor: pointer;\n",
              "      display: none;\n",
              "      fill: #1967D2;\n",
              "      height: 32px;\n",
              "      padding: 0 0 0 0;\n",
              "      width: 32px;\n",
              "    }\n",
              "\n",
              "    .colab-df-convert:hover {\n",
              "      background-color: #E2EBFA;\n",
              "      box-shadow: 0px 1px 2px rgba(60, 64, 67, 0.3), 0px 1px 3px 1px rgba(60, 64, 67, 0.15);\n",
              "      fill: #174EA6;\n",
              "    }\n",
              "\n",
              "    [theme=dark] .colab-df-convert {\n",
              "      background-color: #3B4455;\n",
              "      fill: #D2E3FC;\n",
              "    }\n",
              "\n",
              "    [theme=dark] .colab-df-convert:hover {\n",
              "      background-color: #434B5C;\n",
              "      box-shadow: 0px 1px 3px 1px rgba(0, 0, 0, 0.15);\n",
              "      filter: drop-shadow(0px 1px 2px rgba(0, 0, 0, 0.3));\n",
              "      fill: #FFFFFF;\n",
              "    }\n",
              "  </style>\n",
              "\n",
              "      <script>\n",
              "        const buttonEl =\n",
              "          document.querySelector('#df-5678f109-5f30-4756-b9da-a53386691d49 button.colab-df-convert');\n",
              "        buttonEl.style.display =\n",
              "          google.colab.kernel.accessAllowed ? 'block' : 'none';\n",
              "\n",
              "        async function convertToInteractive(key) {\n",
              "          const element = document.querySelector('#df-5678f109-5f30-4756-b9da-a53386691d49');\n",
              "          const dataTable =\n",
              "            await google.colab.kernel.invokeFunction('convertToInteractive',\n",
              "                                                     [key], {});\n",
              "          if (!dataTable) return;\n",
              "\n",
              "          const docLinkHtml = 'Like what you see? Visit the ' +\n",
              "            '<a target=\"_blank\" href=https://colab.research.google.com/notebooks/data_table.ipynb>data table notebook</a>'\n",
              "            + ' to learn more about interactive tables.';\n",
              "          element.innerHTML = '';\n",
              "          dataTable['output_type'] = 'display_data';\n",
              "          await google.colab.output.renderOutput(dataTable, element);\n",
              "          const docLink = document.createElement('div');\n",
              "          docLink.innerHTML = docLinkHtml;\n",
              "          element.appendChild(docLink);\n",
              "        }\n",
              "      </script>\n",
              "    </div>\n",
              "  </div>\n",
              "  "
            ]
          },
          "metadata": {},
          "execution_count": 7
        }
      ]
    }
  ]
}

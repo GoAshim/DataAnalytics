{
  "nbformat": 4,
  "nbformat_minor": 0,
  "metadata": {
    "colab": {
      "name": "Web Scraping 2 - Top 1000 Movies from IMDB.ipynb",
      "provenance": [],
      "collapsed_sections": [],
      "authorship_tag": "ABX9TyPjgvYtTV2Ilh+DgbVHfl/j",
      "include_colab_link": true
    },
    "kernelspec": {
      "name": "python3",
      "display_name": "Python 3"
    },
    "language_info": {
      "name": "python"
    }
  },
  "cells": [
    {
      "cell_type": "markdown",
      "metadata": {
        "id": "view-in-github",
        "colab_type": "text"
      },
      "source": [
        "<a href=\"https://colab.research.google.com/github/GoAshim/WebScraping/blob/main/Web_Scraping_2_Top_1000_Movies_from_IMDB.ipynb\" target=\"_parent\"><img src=\"https://colab.research.google.com/assets/colab-badge.svg\" alt=\"Open In Colab\"/></a>"
      ]
    },
    {
      "cell_type": "markdown",
      "source": [
        "# Scrap Info of Top 1000 All Time Hit Movies from IMDB\n",
        "In this web scraping exercise we are going to scrap the 1000 all time hit movies from IMDB site (link [here](https://www.imdb.com/list/ls006266261/)).\n",
        "\n",
        "\n",
        "## Summary\n",
        "It's no surprise to say that IMDB is the number one source when it comes to movies. They have compiled an awesome list of 1000 greatest movies of all time and has provided that on the above link. We are going collect following data points for each movies and load that on multiple dataframes for further analysis.\n",
        "\n",
        "\n",
        "*   Name of the movie to data frame 1\n",
        "*   Year of release to data frame 1\n",
        "*   Runtime to data frame 1\n",
        "*   Rating to data frame 1\n",
        "*   Gross earning to data frame 1\n",
        "*   Directors and Stars to data frame 2\n",
        "\n",
        "Also we see that the URL above only lists only 100 of the top 1000 movies, hence we will programatically continue navigate to the next pages to collect the information of all 1000 movies.\n",
        "\n",
        "\n",
        "\n",
        "\n"
      ],
      "metadata": {
        "id": "R8tmRRaRDY6Z"
      }
    },
    {
      "cell_type": "markdown",
      "source": [
        "### Step 1 - Import required libraries"
      ],
      "metadata": {
        "id": "jQ5vvlR42Aal"
      }
    },
    {
      "cell_type": "code",
      "source": [
        "import requests # To pull data from webpage\n",
        "from bs4 import BeautifulSoup # To parse data pulled from the webpage\n",
        "import pandas as pd # To view, modify and store data parsed from the webpage \n",
        "import re # Regular expression library, will use to match string\n"
      ],
      "metadata": {
        "id": "7ydKpW-nDo9B"
      },
      "execution_count": null,
      "outputs": []
    },
    {
      "cell_type": "markdown",
      "source": [
        "### Step 2 - Extract the content of the webpage"
      ],
      "metadata": {
        "id": "uF0LrCTf2jlP"
      }
    },
    {
      "cell_type": "code",
      "source": [
        "url = \"https://www.imdb.com/list/ls006266261/\"\n",
        "\n",
        "# Using requests.get to fetch the source content of the page\n",
        "page_data = requests.get(url).text\n",
        "\n",
        "# Uning BeautifulSoup to parse the content with the lxml parser\n",
        "soup = BeautifulSoup(page_data, \"lxml\")"
      ],
      "metadata": {
        "id": "pv0O3BDfHcrR"
      },
      "execution_count": null,
      "outputs": []
    },
    {
      "cell_type": "markdown",
      "source": [
        "### Step 3 - Extract and print the names of the movies on the page"
      ],
      "metadata": {
        "id": "rHvWKRJ53IR1"
      }
    },
    {
      "cell_type": "code",
      "source": [
        "# This is a manual step where I inspected the source code of the page on my Web brouser and then identified that there are list of div tags with\n",
        "# class=\"lister-item mode-detail\" so we will use that to extract the content of of the div tags\n",
        "movies = soup.find_all('div', {\"class\" : \"lister-item mode-detail\"})\n",
        "\n",
        "# Then let's extract the body of the table\n",
        "n = 0\n",
        "for movie in movies:\n",
        "  movie_title = movie.find('h3', {\"class\" : \"lister-item-header\"}).a.get_text()\n",
        "  n += 1\n",
        "  print(movie_title)\n",
        "\n",
        "  if n == 10:\n",
        "    break\n"
      ],
      "metadata": {
        "id": "mwoTPzGHKFbN",
        "colab": {
          "base_uri": "https://localhost:8080/"
        },
        "outputId": "d1d6924c-dfa4-4fc7-f67f-1125f6102838"
      },
      "execution_count": null,
      "outputs": [
        {
          "output_type": "stream",
          "name": "stdout",
          "text": [
            "The Godfather\n",
            "Goodfellas\n",
            "Pulp Fiction\n",
            "The Usual Suspects\n",
            "Apocalypse Now\n",
            "Trainspotting\n",
            "Fight Club\n",
            "Schindler's List\n",
            "Boogie Nights\n",
            "Reservoir Dogs\n"
          ]
        }
      ]
    },
    {
      "cell_type": "markdown",
      "source": [
        "### Step 4 - Extract and print all information we need to extract for the first movie"
      ],
      "metadata": {
        "id": "6rgOUGFH3Vnw"
      }
    },
    {
      "cell_type": "code",
      "source": [
        "for movie in movies:\n",
        "  movie_rank = movie.find('span', {'class' : \"lister-item-index unbold text-primary\"}).get_text()[:-1]\n",
        "  movie_title = movie.find('h3', {\"class\" : \"lister-item-header\"}).a.get_text()\n",
        "  movie_year = movie.find('span', {'class' : \"lister-item-year text-muted unbold\"}).get_text()[1:-1]\n",
        "  movie_runtime = movie.find('span', {'class' : \"runtime\"}).get_text()\n",
        "  movie_rating = movie.find('span', {'class' : \"ipl-rating-star__rating\"}).get_text()\n",
        "\n",
        "  # To find the gross earning of the movie, we need to first firn the tag having content as 'Gross:' and then go to the next sibling\n",
        "  movie_earning = movie.find('span', text=\"Gross:\").find_next_sibling().get_text()\n",
        "\n",
        "  # \n",
        "  movie_directors = []\n",
        "  movie_stars = []\n",
        "  star = 0\n",
        "  cast_tag = movie.find(text=re.compile(\"Director\")).parent # This extracts the tag which had 'Director' anywhere in the content\n",
        "\n",
        "  for tag in cast_tag.find_all(['a','span']):\n",
        "    if tag.name == 'span':\n",
        "      star = 1\n",
        "      continue\n",
        "      \n",
        "    if star == 0:\n",
        "      movie_directors.append(tag.get_text())\n",
        "    else:\n",
        "      movie_stars.append(tag.get_text())\n",
        "\n",
        "  print(movie_rank)\n",
        "  print(movie_title)\n",
        "  print(movie_year)\n",
        "  print(movie_runtime)\n",
        "  print(movie_earning)\n",
        "  print(movie_directors)\n",
        "  print(movie_stars)\n",
        "  \n",
        "  break"
      ],
      "metadata": {
        "colab": {
          "base_uri": "https://localhost:8080/"
        },
        "id": "NEfT7K-I_7RQ",
        "outputId": "54bbf103-c4cd-40a8-e97e-7ec98b7e07d0"
      },
      "execution_count": 58,
      "outputs": [
        {
          "output_type": "stream",
          "name": "stdout",
          "text": [
            "1\n",
            "The Godfather\n",
            "1972\n",
            "175 min\n",
            "$134.97M\n",
            "['Francis Ford Coppola']\n",
            "['Marlon Brando', 'Al Pacino', 'James Caan', 'Diane Keaton']\n"
          ]
        }
      ]
    },
    {
      "cell_type": "markdown",
      "source": [
        "### Step 5 - Loop through the page to extract all required info of all the movies in the page and store that into appropriate dataframes"
      ],
      "metadata": {
        "id": "BcCYR0HG34VH"
      }
    },
    {
      "cell_type": "code",
      "source": [
        ""
      ],
      "metadata": {
        "id": "iReeIXzr6Y2y"
      },
      "execution_count": null,
      "outputs": []
    }
  ]
}